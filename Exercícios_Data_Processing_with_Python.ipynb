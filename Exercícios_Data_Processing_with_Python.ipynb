{
  "nbformat": 4,
  "nbformat_minor": 0,
  "metadata": {
    "colab": {
      "provenance": [],
      "authorship_tag": "ABX9TyNlgkwr663xA11yYhDm09bN",
      "include_colab_link": true
    },
    "kernelspec": {
      "name": "python3",
      "display_name": "Python 3"
    },
    "language_info": {
      "name": "python"
    }
  },
  "cells": [
    {
      "cell_type": "markdown",
      "metadata": {
        "id": "view-in-github",
        "colab_type": "text"
      },
      "source": [
        "<a href=\"https://colab.research.google.com/github/diegotluz/MBA-9DTS/blob/main/Exerc%C3%ADcios_Data_Processing_with_Python.ipynb\" target=\"_parent\"><img src=\"https://colab.research.google.com/assets/colab-badge.svg\" alt=\"Open In Colab\"/></a>"
      ]
    },
    {
      "cell_type": "code",
      "execution_count": null,
      "metadata": {
        "id": "zxRKec0pmjCx"
      },
      "outputs": [],
      "source": [
        "num=input(\"por favor informe um numero \\n\")\n",
        "print(f\"O Numero informado foi {num}\")"
      ]
    },
    {
      "cell_type": "code",
      "source": [
        "m=input(\"quantos metros você quer converter? \\n\")\n",
        "c=int(m)*100\n",
        "print(f\"{m} são {c} em semtimentros\")"
      ],
      "metadata": {
        "colab": {
          "base_uri": "https://localhost:8080/"
        },
        "id": "v_p9DQMwnXYD",
        "outputId": "bf77e43f-b452-4fa6-a655-42df636684a3"
      },
      "execution_count": 9,
      "outputs": [
        {
          "output_type": "stream",
          "name": "stdout",
          "text": [
            "quantos metros você quer converter? \n",
            "5\n",
            "5 são 500 em semtimentros\n"
          ]
        }
      ]
    },
    {
      "cell_type": "code",
      "source": [
        "F=int(input(\"graus Farenheit para ser convertido em Celcius \\n\"))\n",
        "C=(5*(F-32)/9)\n",
        "print(f\"{F}º Farenheit são {C}º Celcius\")"
      ],
      "metadata": {
        "colab": {
          "base_uri": "https://localhost:8080/"
        },
        "id": "T2pBm6dEocns",
        "outputId": "e4fb8bd1-db6b-4e04-ef7e-5840559f96da"
      },
      "execution_count": 12,
      "outputs": [
        {
          "output_type": "stream",
          "name": "stdout",
          "text": [
            "graus Farenheit para ser convertido em Celcius \n",
            "50\n",
            "50º Farenheit são 10.0º Celcius\n"
          ]
        }
      ]
    },
    {
      "cell_type": "code",
      "source": [
        "vec=[]\n",
        "for i in (range(5)):\n",
        "  num=int(input(f\"me informe o numero {i+1} \\n\"))\n",
        "  vec.append(num)\n",
        "print(vec)\n"
      ],
      "metadata": {
        "colab": {
          "base_uri": "https://localhost:8080/"
        },
        "id": "MNnxK0jaotaA",
        "outputId": "4ce23c02-ce4c-456f-dec4-8c2889aba260"
      },
      "execution_count": 4,
      "outputs": [
        {
          "output_type": "stream",
          "name": "stdout",
          "text": [
            "me informe o numero 1 \n",
            "1\n",
            "me informe o numero 2 \n",
            "2\n",
            "me informe o numero 3 \n",
            "3\n",
            "me informe o numero 4 \n",
            "4\n",
            "me informe o numero 5 \n",
            "5\n",
            "[1, 2, 3, 4, 5]\n"
          ]
        }
      ]
    },
    {
      "cell_type": "code",
      "source": [
        "\n"
      ],
      "metadata": {
        "id": "IJ-ez4awrRCg"
      },
      "execution_count": null,
      "outputs": []
    }
  ]
}