{
  "cells": [
    {
      "cell_type": "markdown",
      "metadata": {
        "id": "isuM5S5ZdZaV"
      },
      "source": [
        "1. Faça um Programa que peça um número e então mostre a mensagem O número informado foi [número].\n"
      ]
    },
    {
      "cell_type": "code",
      "execution_count": null,
      "metadata": {
        "id": "zxRKec0pmjCx"
      },
      "outputs": [],
      "source": [
        "num=input(\"por favor informe um numero \\n\")\n",
        "print(f\"O Numero informado foi {num}\")"
      ]
    },
    {
      "cell_type": "markdown",
      "metadata": {
        "id": "z_ng5rWSdf6Y"
      },
      "source": [
        "2. Faça um Programa que converta metros para centímetros."
      ]
    },
    {
      "cell_type": "code",
      "execution_count": 1,
      "metadata": {
        "colab": {
          "base_uri": "https://localhost:8080/"
        },
        "id": "v_p9DQMwnXYD",
        "outputId": "bf77e43f-b452-4fa6-a655-42df636684a3"
      },
      "outputs": [
        {
          "name": "stdout",
          "output_type": "stream",
          "text": [
            "100 são 10000 em semtimentros\n"
          ]
        }
      ],
      "source": [
        "m=input(\"quantos metros você quer converter? \\n\")\n",
        "c=int(m)*100\n",
        "print(f\"{m} são {c} em semtimentros\")"
      ]
    },
    {
      "cell_type": "markdown",
      "metadata": {
        "id": "KkRdYUlPdlQr"
      },
      "source": [
        "3.Faça um Programa que peça a temperatura em graus Farenheit, transforme e mostre a temperatura em graus Celsius.\n",
        "oC = (5 * (F-32) / 9)."
      ]
    },
    {
      "cell_type": "code",
      "execution_count": null,
      "metadata": {
        "colab": {
          "base_uri": "https://localhost:8080/"
        },
        "id": "T2pBm6dEocns",
        "outputId": "e4fb8bd1-db6b-4e04-ef7e-5840559f96da"
      },
      "outputs": [
        {
          "name": "stdout",
          "output_type": "stream",
          "text": [
            "graus Farenheit para ser convertido em Celcius \n",
            "50\n",
            "50º Farenheit são 10.0º Celcius\n"
          ]
        }
      ],
      "source": [
        "F=int(input(\"graus Farenheit para ser convertido em Celcius \\n\"))\n",
        "C=(5*(F-32)/9)\n",
        "print(f\"{F}º Farenheit são {C}º Celcius\")"
      ]
    },
    {
      "cell_type": "markdown",
      "metadata": {
        "id": "PdUcKVT9dm_L"
      },
      "source": [
        "4. Faça um Programa que leia um vetor de 5 números inteiros e mostre-os."
      ]
    },
    {
      "cell_type": "code",
      "execution_count": null,
      "metadata": {
        "colab": {
          "base_uri": "https://localhost:8080/"
        },
        "id": "MNnxK0jaotaA",
        "outputId": "4ce23c02-ce4c-456f-dec4-8c2889aba260"
      },
      "outputs": [
        {
          "name": "stdout",
          "output_type": "stream",
          "text": [
            "me informe o numero 1 \n",
            "1\n",
            "me informe o numero 2 \n",
            "2\n",
            "me informe o numero 3 \n",
            "3\n",
            "me informe o numero 4 \n",
            "4\n",
            "me informe o numero 5 \n",
            "5\n",
            "[1, 2, 3, 4, 5]\n"
          ]
        }
      ],
      "source": [
        "vec=[]\n",
        "for i in (range(5)):\n",
        "  num=int(input(f\"me informe o numero {i+1} \\n\"))\n",
        "  vec.append(num)\n",
        "print(vec)\n"
      ]
    },
    {
      "cell_type": "markdown",
      "metadata": {
        "id": "7jdEifxfdttL"
      },
      "source": [
        "5. Faça um Programa que leia 20 números inteiros e armazene-os num vetor. Armazene os números pares no vetor PAR e os números ímpares no vetor IMPARES. Imprima os vetores."
      ]
    },
    {
      "cell_type": "code",
      "execution_count": null,
      "metadata": {
        "id": "IJ-ez4awrRCg"
      },
      "outputs": [],
      "source": [
        "import random\n",
        "getnum=[]\n",
        "impar=[]\n",
        "par=[]\n",
        "for i in range(20):\n",
        "    i=random.randint(0, 100)\n",
        "    getnum.append(i)\n",
        "    if i%2 == 0:\n",
        "        par.append(i)\n",
        "    else:\n",
        "        impar.append(i)\n",
        "\n",
        "print(f\"Numeros escolhidos{getnum}\")\n",
        "print(f\"Numeros pares: {par}\")\n",
        "print(f\"Numeros impares: {impar}\")"
      ]
    },
    {
      "cell_type": "markdown",
      "metadata": {
        "id": "TnIWUJ7-h8fg"
      },
      "source": [
        "6. Faça um Programa que leia um vetor de 10 caracteres, e diga quantas consoantes foram lidas. Imprima as consoantes."
      ]
    },
    {
      "cell_type": "code",
      "execution_count": 2,
      "metadata": {
        "id": "XAmv3xqSioB4"
      },
      "outputs": [
        {
          "name": "stdout",
          "output_type": "stream",
          "text": [
            "Foram lidas 8 \n",
            "Essas são as consoantes ['P', 'R', 'L', 'L', 'L', 'P', 'P', 'D']\n"
          ]
        }
      ],
      "source": [
        "vogais=['A', 'E', 'I', 'O', 'U']\n",
        "frase=input('Escreva uma palavra ou uma frase de no minimo 10 caracteres: \\n')\n",
        "consoantes=[]\n",
        "\n",
        "for i in frase.upper().replace(\" \", \"\"):\n",
        "    if i in vogais:\n",
        "        ...\n",
        "    else:\n",
        "        consoantes.append(i)\n",
        "\n",
        "print(f\"Foram lidas {len(consoantes)} consoantes \\ne Essas são elas {consoantes}\")"
      ]
    },
    {
      "cell_type": "markdown",
      "metadata": {
        "id": "dtoBpbj9sUnn"
      },
      "source": [
        "7. Crie uma tupla chamada cores contendo três cores de sua escolha. Em seguida, imprima cada cor em uma linha separada."
      ]
    },
    {
      "cell_type": "code",
      "execution_count": null,
      "metadata": {
        "id": "xuf2Zt4ZsWbd"
      },
      "outputs": [],
      "source": [
        "cores=('Verde', 'Azul', 'Vermelho')\n",
        "for i in range(len(cores)):\n",
        "    print(cores[i])"
      ]
    },
    {
      "cell_type": "markdown",
      "metadata": {
        "id": "dHY4tDi0xIGL"
      },
      "source": [
        "8. Dada a tupla ponto = (3, 4), calcule a distância do ponto à origem (0, 0) usando a fórmula matemática:  \n",
        "![image.png](data:image/png;base64,iVBORw0KGgoAAAANSUhEUgAAAGMAAAAiCAYAAABLP2dcAAAACXBIWXMAAA7EAAAOxAGVKw4bAAAgAElEQVRoBQG6NEXLASEhIf8AAAAAAAAAAAAAAAAAAAAAAAAAAAAAAAAAAAAAAAAAAAAAAAAAAAAAAAAAAAAAAAAAAAAAAAAAAAAAAAAAAAAAAAAAAAAAAAAAAAAAAAAAAAAAAAAAAAAAAAAAAAAAAAAAAAAAAAAAAAAAAAAAAAAAAAAAAAAAAAAAAAAAAAAAAAAAAAAAAAAAAAAAAAAAAAAAAAAAAAAAAAAAAAAAAAAAAAAAAAAAAAAAAAAAAAAAAAAAAAAAAAAAAAAAAAAAAAAAAAAAAAAAAAAAAAAAAAAAAAAAAAAAAAAAAAAAAAAAAAAAAAAAAAAAAAAAAAAAAAAAAAAAAAAAAAAAAAAAAAAAAAAAAAAAAAAAAAAAAAAAAAAAAAAAAAAAAAAAAAAAAAAAAAAAAAAAAAAAAAAAAAAAAAAAAAAAAAAAAAAAAAAAAAAAAAAAAAAAAAAAAAAAAAAAAAAAAAAAAAAAAAAAAAAAAAAAAAAAAAAAAAAAAAAAAAAAAAAAAAAAAAAAAAAAAAAAAAAAAAAAAAIAAAAAAAAAAAAAAAAAAAAAAAAAAAAAAAAAAAAAAAAAAAAAAAAAAAAAAAAAAAAAAAAAAAAAAAAAAAAAAAAAAAAAAAAAAAAAAAAAAAAAAAAAAAAAAAAAAAAAAAAAAAAAAAAAAAAAAAAAAAAAAAAAAAAAAAAAAAAAAAAAAAAAAAAAAAAAAAAAAAAAAAAAAAAAAAAAAAAAAAAAAAAAAAAAAAAAAAAAAAAAAAAAAAAAAAAAAAAAAAAAAAAAAAAAAAAAAAAAAAAAAAAAAAAAAAAAAAAAAAAAAAAAAAAAAAAAAAAAAAAAAAAAAAAAAAAAAAAAAAAAAAAAAAAAAAAAAAAAAAAAAAAAAAAAAAAAAAAAAAAAAAAAAAAAAAAAAAAAAAAAAAAAAAAAAAAAAAAAAAAAAAAAAAAAAAAAAAAAAAAAAAAAAAAAAAAAAAAAAAAAAAAAAAAAAAAAAAAAAAAAAAAAAAAAAAAAAAAAAAAAAAAAAAAAAAAAAAAAAAAAAAAAAAAAAAAAAAAAAAAAAAAAAAACAAAAAAAAAAAAAAAAAAAAAAAAAAAAAAAAAAAAAAAAAAAAAAAAAAAAAAAAAAAAAAAAAAAAAAAAAAAAAAAAAAAAAAAAAAAAAAAAAAAAAAAAAAAAAAAAAAAAAAAAAAAAAAAAAAAAAAAAAAAAAAAAAAAAAAAAAAAAAAAAAAAAAAAAAAAAAAAAAAAAAAAAAAAAAAAAAAAAAAAAAAAAAAAAAAAAAAAAAAAAAAAAAAAAAAAAAAAAAAAAAAAAAAAAAAAAAAAAAAAAAAAAAAAAAAAAAAAAAAAAAAAAAAAAAAAAAAAAAAAAAAAAAAAAAAAAAAAAAAAAAAAAAAAAAAAAAAAAAAAAAAAAAAAAAAAAAAAAAAAAAAAAAAAAAAAAAAAAAAAAAAAAAAAAAAAAAAAAAAAAAAAAAAAAAAAAAAAAAAAAAAAAAAAAAAAAAAAAAAAAAAAAAAAAAAAAAAAAAAAAAAAAAAAAAAAAAAAAAAAAAAAAAAAAAAAAAAAAAAAAAAAAAAAAAAAAAAAAAAAAAAAAAAAAAgAAAAAAAAAAAAAAAAAAAAAAAAAAAAAAAAAAAAAAAAAAAAAAAAAAAAAAAAAAAAAAAAAAAAAAAAAAAAAAAAAAAAAAAAAAAAAAAAAAAAAAAAAAAAAAAAAAAAAAAAAAAAAAAAAAAAAAAAAAAAAAAAAAAAAAAAAAAAAAAAAAAAAAAAAAAAAAAAAAAAAAAAAAAAAAAAAAAAAAAAAAAAAAAAAAAAAAAAAAAAAAAAAAAAAAAAAAAAAAAAAAAAAAAAAAAAAAAAAAAAAAAAAAAAAAAAAAAAAAAAAAAAAAAAAAAAAAAAAAAAAAAAAAAAAAAAAAAAAAAAAAAAAAAAAAAAAAAAAAAAAAAAAAAAAAAAAAAAAAAAAAAAAAAAAAAAAAAAAAAAAAAAAAAAAAAAAAAAAAAAAAAAAAAAAAAAAAAAAAAAAAAAAAAAAAAAAAAAAAAAAAAAAAAAAAAAAAAAAAAAAAAAAAAAAAAAAAAAAAAAAAAAAAAAAAAAAAAAAAAAAAAAAAAAAAAAAAAAAAAAAAAAAAAAIAAAAAAAAAAAAAAAAAAAAAAAAAAAAAAAAAAAAAAAAAAAAAAAAAAAAAAAAAAAAAAAAAAAAAAAAAAAAAAAAAAAAAAAAAAAAAAAAAAAAAAAAAAAAAAAAAAAAAAAAAAAAAAAAAAAAAAAAAAAAAAAAAAAAAAAAAAAAAAAAAAAAAAAAAAAAAAAAAAAAAAAAAAAAAAAAAAAAAAAAAAAAAAAAAAAAAAAAAAAAAAAAAAAAAAAAAAAAAAAAAAAAAAAAAAAAAAAAAAAAAAAAAAAAAAAAAAAAAAAAAAAAAAAAAAAAAAAAAAAAAAAAAAAAAAAAAAAAAAAAAAAAAAAAAAAAAAAAAAAAAAAAAAAAAAAAAAAAAAAAAAAAAAAAAAAAAAAAAAAAAAAAAAAAAAAAAAAAAAAAAAAAAAAAAAAAAAAAAAAAAAAAAAAAAAAAAAAAAAAAAAAAAAAAAAAAAAAAAAAAAAAAAAAAAAAAAAAAAAAAAAAAAAAAAAAAAAAAAAAAAAAAAAAAAAAAAAAAAAAAAAAAAAAACAAAAAAAAAAAAAAAAAAAAAAAAAAAAAAAAAAAAAAAAAAAAAAAAAAAAAAAAAAAAAAAAAAAAAAAAAAAAAAAAAAAAAAAAAAAAAAAAAAAAAAAAAAAAAAAAAAAAAAAAAAAAAAAAAAAAAAAAAAAAAAAAAAAAAAAAAAAAAAAAAAAAAAAAAAAAAAAAAAAAAAAAAAAAAAAAAAAAAAAAAAAAAAAAAAAAAAAAAAAAAAAAAAAAAAAAAAAAAAAAAAAAAAAAAAAAAAAAAAAAAAAAAAAAAAAAAAAAAAAAAAAAAAAAAAAAAAAAAAAAAAAAAAAAAAAAAAAAAAAAAAAAAAAAAAAAAAAAAAAAAAAAAAAAAAAAAAAAAAAAAAAAAAAAAAAAAAAAAAAAAAAAAAAAAAAAAAAAAAAAAAAAAAAAAAAAAAAAAAAAAAAAAAAAAAAAAAAAAAAAAAAAAAAAAAAAAAAAAAAAAAAAAAAAAAAAAAAAAAAAAAAAAAAAAAAAAAAAAAAAAAAAAAAAAAAAAAAAAAAAAAAAAAAABAAAAAAAAAAAAAAAAAAAAAAAAAAAAAAAAAAAAAAAAAAAAAAAAAAAAAAAAAAAAAAAAAAAAAAAAAAAAAAAAAAAAAAAAAAAAAAAAAAAAAAAAAAAAAAAAAAAAAAkJCQAY2NjAAAAAAAAAAAAAAAAAAAAAAAAAAAAAAAAAAAAAAAAAAAAAAAAAAAAAAAAAAAAAAAAAAAAAAAAAAAAAAAAAAAAAAAAAAAAAAAAAAAAAAAAAAAAAAAAAAAAAAAAAAAAAAAAAAAAAAAAAAAAAAAAAAAAAAAAAAAAAAAAAAAAAAAAAAAAAAAAAAAAAAAAAAAAAAAAAAAAAAAAAAAAAAAAAAAAAAAAAAAAAAAAAAAAAAAAAAAAAAAAAAAAAAAAAAAAAAAAAAAAAAAAAAAAAAAAAAAAAAAAAAAAAAAAAAAAAAAAAAAAAAAAAAAAAAAAAAAAAAAAAAAAAAAAAAAAAAAAAAAAAAAAAAAAAAAAAAAAAAAAAAAAAAAAAAAAAAAAAAAAAAAAAAAAAAAAAAAAAAAAAAEhISH/AAAAAAAAAAAAAAAAAAAAAAAAAAAAAAAAAAAAAAAAAAAAAAAAAAAAAAAAAAAAAAAAAAAAAAAAAAAAAAAAAAAAAAAAAAAAAAAAAAAAAAAAAAAAAAAAqKioAJycnAAAAAAAAAAAAAAAAAAAAAAAAAAAAAAAAAAAAAAAAAAAAAAAAAAAAAAAAAAAAAAAAAAAAAAAAAAAAAAAAAAAAAAAAAAAAAAAAAD///8AAAAAAAAAAAAAAAAAAAAAAAAAAAAAAAAAAAAAAAAAAAAAAAAAAAAAAAAAAAAAAAAAAAAAAAAAAAAAAAAAAAAAAAAAAAAAAAAAAAAAAAAAAAAAAAAAAAAAAAAAAAAAAAAAAAAAAAAAAAAAAAAAAAAAAAAAAAAAAAAAAAAAAAAAAAAAAAAAAAAAAAAAAAAAAAAAAAAAAAAAAAAAAAAAAAAAAAAAAAAAAAAAAAAAAAAAAAAAAAAAAAAAAAAAAAAAAAAAAAAAAAAAAAAAAAAAAAAAAAAAAAAAAAAAAAAAAAAAAAAEAAAAAAAAAAAAAAAAAAAAAAAAAAAAAAAAAAAAAAAAAAAAAAAAAAAAAAAAAAAAAAAAAAAAAAAAAAAAAAAAAAAAAAAAAAAAAAAAAAAAAAAAAAAAAAAALCwsAPv7+wC8vLwAAAAAAAAAAAAAAAAAAAAAAAAAAAAAAAAAAAAAAAAAAAAAAAAAAAAAAAAAAAAAAAAAAAAAAAAAAAAAAAAAAAAAAAAAAAAAAAAAAAAAAAAAIQAuUEEASBTtALi8sQDS4AAAAAAAAAAAAAAAAAAAAAAAAAAAAAAAAAAAAAAAAAAAAAAAAAAAAAAAAAAAAAAAAAAAAAAAAAAAAAAAAAAAAAAAAAAAAAAAAAAAAAAAAAAAAAAAAAAAAAAAAAAAAAAAAAAAAAAAAAAAAAAAAAAAAAAAAAAAAAAAAAAAAAAAAAAAAAAAAAAAAAAAAAAAAAAAAAAAAAAAABMmQQBIRSgAANa+ALi/2QDtAAAAAAAAAAAAAAAAAAAAAAAAAAAAAAAAAAAAAAAAAAAAAAAAAAAAAgAAAAAAAAAAAAAAAAAAAAAAAAAAAAAAAAAAAAAAAAAAAAAAAAAAAAAAAAAAAAAAAAAAAAAAAAAAAAAAAAAAAAAAAAAAAAAAAAAAAAAAAAAAAAAAAGxsbACenp4AAAAAAAAAAAAAAAAAAAAAAAAAAAAAFicANDAhAAAAAAAAAAAAAAAAAAAAAAAAAAAAAAAAAAAAAAAAAAAAAAAAAAAAAAAAAAAAAAAAAAAWTwCKq4kAYysUAAAmVQCXqMUApG4uAAAAAAAAAAAAAAAAAAAAAAAAAAAAAAAAAAAAAAAAAAAAAAAAAAAAAAAAAAAAAAAAAAAAAAAAAAAAAAAAAAAAAAAAAAAAAAAAAAAAAAAAAAAAAAAAAAAAAAAAAAAAAAAAAAAAAAAAAAAAAAAAAAAAAAAAAAAAAAAAAAAAAAAAAAAAAAAAAAAAAAAAAAAAAAAAAC5unQCdeEMAGwkTADx0pAC4tYoATxYAAAAAAAAAACEALjcnABMAAAAAAAAAAAAAAAAAAAAAAAAAAAAAAAIAAAAAAAAAAAAAAAAAAAAAAAAAAAAAAAAAAAAAAAAAAAAAAAAAAAAAAAAAAAAAAAAAAAAAAAAAAAAAAAAAAAAAAAAAAAAAAAAAAAAAAAAAACsrKwACAgIAv7+/AAAAAAAAAAAAAAAAAAAAAAAAFk8AhJWDAFYd8gAAAAAAAAAAAAAAAAAAAAAAAAAAAAAAAAAAAAAAAAAAAAAAAAAAAAAAAAAAAAAAAAAnYlsANAbgANGuigCKdlwAlswAACdXbwBiAAAAAAAAAAAAAAAAAAAAAAAAAAAAAAAAAAAAAAAAAAAAAAAAAAAAAAAAAAAAAAAAAAAAAAAAAAAAAAAAAAAAAAAAAAAAAAAAAAAAAAAAAAAAAAAAAAAAAAAAAAAAAAAAAAAAAAAAAAAAAAAAAAAAAAAAAAAAAAAAAAAAAAAAAAAAAAAAAAAAAAAAAAAAVQBjShsA9NrDAIqMhABpdKsA3xZBAGFrOgAAAAAAAADyACFTiQCdh08AEwAAAAAAAAAAAAAAAAAAAAAAAAACAAAAAAAAAAAAAAAAAAAAAAAAAAAAAAAAAAAAAAAAAAAAAAAAAAAAAAAAAAAAAAAAAAAAAAAAAAAAAAAAAAAAAAAAAAAAAAAAAAAAAAAAAABeXl4AycnJAAAAAAAAAAAAAAAAAAAAAAAAACcAaYx2ACzWlwB2s+0AAAAAAAAAAAAAAAAAAAAAAAAAAAAAAAAAAAAAAAAAAAAAAAAAAAAAAAAAAAAAAAAAAPz6AA0aJgAaEgAAAAAAAKXa3wAABhsAKEYAAAAAAAAAAAAAAAAAAAAAAAAAAAAAAAAAAAAAAAAAAAAAAAAAAAAAAAAAAAAAAAAAAAAAAAAAAAAAAAAAAAAAAAAAAAAAAAAAAAAAAAAAAAAAAAAAAAAAAAAAAAAAAAAAAAAAAAAAAAAAAAAAAAAAAAAAAAAAAAAAAAAAAAAAAAAAAAAAAAAAAAAAAAAAAAMTACEfFAAAAAAAANfRAODtAAAbIS8AAAAAAAAA7QCxdn4AxiR2AJFuLgAAAAAAAAAAAAAAAAAAAAAAAgAAAAAAAAAAAAAAAAAAAAAAAAAAAAAAAAAAAAAAAAAAAAAAAAAAAAAAAAAAAAAAAAAAAAAAAAAAAAAAAAAAAAAAAAAAAAAAAAAAAAAcHBwAHh4eAJ2dnQAAAAAAAAAAAAAAAAAAAAAAE2R2AFwczAClf78AAAAAAAAAAAAAAAAAAAAAAAAAAAAAAAAAAAAAAAAAAAAAAAAAAAAAAAAAAAAAAAAAAAAAANmMXAA1NVAAhMUAAAAAAABbJiEAAPPZAMu6AAAAAAAAAAAAAAAAAAAAAAAAAAAAAAAAAAAAAAAAAAAAAAAAAAAAAAAAAAAAAAAAAAAAAAAAAAAAAAAAAAAAAAAAAAAAAAAAAAAAAAAAAAAAAAAAAAAAAAAAAAAAAAAAAAAAAAAAAAAAAAAAAAAAAAAAAAAAAAAAAAAAAAAAAAAAAAAAAAAAAAAAAACrAG9FNQA7aaUAAAAAAAApLwAgEwAA39a+AAAAAAAAAAAAAADSAIqWvwAUV3YAcCkAAAAAAAAAAAAAAAAAAAIAAAAAAAAAAAAAAAAAAAAAAAAAAAAAAAAAAAAAAAAAAAAAAAAAAAAAAAAAAAAAAAAAAAAAAAAAAAAAAAAAAAAAAAAAAAAAAAAAAAAAY2NjALS0tAAAAAAAAAAAAAAAAAAAAAAAAABBAHFRLgDzx7AAqwAAAAAAAAAAAAAAAAAAAAAAAAAAAAAAAAAAAAAAAAAAAAAAAAAAAAAAAAAAAAAAAAAAAAAAAAAAAAAAAAAAAAAAAAAAMHYATzTzAMaclgCrAAAAAAAAAAAAAAAAAAAAAAAAAAAAAAAAAAAAAAAAAAAAAAAAAAAAAAAAAAAAAAAARooAuKJpAAAAAAAAAAAAAAAAAAAAAAAAAAAAAAAAAAAAAAAAAAAAAAAAAAAAAAAAAAAAAAAAAAAAAAAAAAAAAAAAAAAAAAAAAAAAAAAAAAAAAAAAAAAAAAAAAAAAAAAAAAAAAAAAAAAAEwBba0gAG92rAJCI2QAAAAAAAAAAAAAAAAAAv6MAvuMnAE5nVQAAAAAAAAAAAAAAAAACAAAAAAAAAAAAAAAAAAAAAAAAAAAAAAAAAAAAAAAAAAAAAAAAAAAAAAAAAAAAAAAAAAAAAAAAAAAAAAAAAAAAAAAAAAAAAAAADQ0NADU1NQCqqqoAAAAAAAAAAAAAAAAAAAAAAABKSQA0FuUAzLa/AAAAAAAAAAAAAAAAAAAAAAAAAAAAAAAAAAAAAAAAAAAAAAAAAAAAAAAAAAAAAAAAAAAAAAAAAAAAAAAAAAAAAAAAFk8AioE6AOeVdgBvptkAAAAAAAAAAAAAAAAAAAAAAAAAAAAAAAAAAAAAAAAAAAAAAAAAAAAAAAAAAAAAAAAAAAQAAAAABwAAAAAAAAAAAAAAAAAAAAAAAAAAAAAAAAAAAAAAAAAAAAAAAAAAAAAAAAAAAAAAAAAAAAAAAAAAAAAAAAAAAAAAAAAAAAAAAAAAAAAAAAAAAAAAAAAAAAAAAAAAAAAAAAAubpEAXRG4AHxuigDGAAAAAAAAAAAAAAAAAAAAAADZALHQ3wANMkIAWwAAAAAAAAAAAAAAAgAAAAAAAAAAAAAAAAAAAAAAAAAAAAAAAAAAAAAAAAAAAAAAAAAAAAAAAAAAAAAAAAAAAAAAAAAAAAAAAAAAAAAAAAAAAAAAAHNzcwC0tLQA+/v7AAAAAAAAAAAAAAAAAAAAAAA6NyYAE/DhAMvFAAAAAAAAAAAAAAAAAAAAAAAAAAAAAAAWJwBPZHYAdmRPACcWAAAAACEAOlppAHZkRwAhAAAAAAAAAAAAAAAAFkEAdohOAOyTYwBvo9IAOmt2AGIjAAAAAAAAAAAAAAAAAAAAAAAAAAAAAAAAAAAAAAAAAAAAAAAAAAAAAAAAAAAAAAAAAAAAAAAAAAAAAAAAAAAAAAAAAAAAAAAAAAAAAAAAAAAAAAAAAAAAAAAAAAAAAAAAAAAAAAAAAAAAACE9WwBpdGIATyYTAAAAAAAAAAAAAAAAAAAgLgA0JhMAAAAAAAAAAAAuXZEAbyK3AHZbigC/6lUAdnRHAAAAAAAAAAAAAAAAAAAAAADZzuAA7QknADZNAAAAAAAAAAAAAAIAAAAAAAAAAAAAAAAAAAAAAAAAAAAAAAAAAAAAAAAAAAAAAAAAAAAAAAAAAAAAAAAAAAAAAAAAAAAAAAAAAAAAAAAAAAAAAABCQkIAubm5AAAAAAAAAAAAAAAAAAAAAAAAAAAANiEbAADn3wCxAAAAAAAAAAAAAAAAAAAAAAAAAAAwcACdn4MAQhcAAAY3aQCkopcAiqKPAGorDQAbS4QApJdbAAAAAAAAAC4AcIhjAA61pADE9ycAR1ppAF09IQAA3QAAAAAAAAAAAAAAAAAAAAAAAAAAAAAAAAAAAAAAAAAAAAAAAAAAAAAAAAAAAAAAAAAAAAAAAAAAAAAAAAAAAAAAAAAAAAAAAAAAAAAAAAAAAAAAAAAAAAAAAAAAAAAAAAAAAAAAAC5upACXaC8ADSBOAHyfhABbAAAAAAAAAAAAOgB8j50Al4JjACEAAAATTYoAdjrYAKqr3wAMO08AYoVPAC4N8wAAAAAAAAAAAAAAAAAAAAAAALrmAOwADQATJBMAAAAAAAAAAAAEAAAAAAAAAAAAAAAAAAAAAAAAAAAAAAAAAAAAAAAAAAAAAAAAAAAAAAAAAAAAAAAAAAAAAAAAAAAAAAAAAAAAAAAAAACHh4cAs7OzAN/f3wAAAAAAAAAAAAAAAAAAAAAAAABHABoWAAD63OsAAAAAAAAAAAAAAAAAAAAAAAAAQQCEfzoA2XtWAIrQAAAAShQAPIFBADTYigBC30gAxUYAAAbzFQATAAAAJ36CAFstGwAALYoARwAAAAAAAAAA7b8AsAAAAAAAAAAAAAAAAAAAAAAAAAAAAAAAAAAAAAAAAAAAAAAAAAAAAAAAAAAAAAAAAAAAAAAAAAAAAAAAAAAAAAAAAAAAAAAAAAAAAAAAAAAAAAAAAAAAAAAAAAAAAAAAAAAAAAAWYgBvR/MAo2F2AOx0uABVBhMAGyMAAADdAAAAKTwALhwAAPPD2QDfAFsAl3hBACcGQQCENAAAAAAAAAAAAADZoMYAAAAAAAAAAAAAAAAAAAAAAAAA1wDm7QAALhk0AAAAuQAAAAAABAAAAAAAAAAAAAAAAAAAAAAAAAAAAAAAAAAAAAAAAAAAbGxsAMjIyADMzMwAAAAAAAAAAAAAAAAAAAAAAAAAAAAAAAAAQ0NDAF9fXwAAAAAAAAAAAAAAAAAAAAAAAAAAAAAAAAAAAAAA8/bsAAAAAAAAAAAAAAAAAAAAAAAANDUAGeGxAHzQAAAAAAAAACEaABMA+gDMyqsAALzsAKsmQwDyraMA7QAAAMaCUAA1ggAAAAAAAAAAAAAAAAAAAAAAAAAAAAAAAAAAAAAAAAAAAAAAAAAAAAAAAAAAEwAnNycAEwQAAAAAAAAAAAAAAAAAAAAWDQAGBgwAOjs6AAAAAAAAAAAAAAAAAAAAAAD05cYA0uAAAAAAAAAAAAAAAAAAAAAAAAAAOigAB9CwAKXqVQCRNBMAAN2+ALHdAAAAAAAAADsnABsA+gDY1rEAAAAAAGk7pQAAAAAAAAAAAAAAAAAAAAAAAAAAAAAAAAAAAAAAAAAAAAAAAAAAAAAAAAAAAA0KFAAAAAAAAAAAAAQAAAAAAAAAAAAAAAAAAAAAAAAAAAAAAAAiIiIAa2trAD4+PgAWFhYAzMzMAAAAAAAAAAAAAAAAAAAAAAAAAAAAeXl5AKurqwDX19cAAAAAAAAAAAAAAAAAAAAAAAAAAAAAAAAAAAAAAAAAAAAAAAAAAAAAAAAAAAAAAAAAAMyKAGPMAAAAAAAAAAAAAFspIQAAAN8A2bwAAADqvwCQdr8AAAAAAAAAAAAAAAAAAAAAAAAAAAAAAAAAAAAAAAAAAAAAAAAAAAAAAAAAAAAAAAAAAAAAAAAAAAAAI0gAXWdCABkAAAAAAAAAAAAAAAAAAAAAChsABxYZAGNjIQAAAAAAAAAAAAAAAAAAAAAA9M0AAG+VxgAAAAAAAAAAAAAAAAAAAAAAALB2AFywAAAAU5EALQ0AAN+6sQDZAAAAAAAAAFswKAAGAN8A07IAAAAAAAAAAAAAAAAAAAAAAAAAAAAAAAAAAAAAAAAAAAAAAAAAAAAAAAAAAAAAAAAAAAAAAAAGDg4AAAAAAAAAAAAEAAAAAAAAAAAAAAAAAAAAAAAAAAAAAAAAZWVlAJiYmAD7+/sASUlJAKCgoADe3t4AAAAAAAAAAAAAAAAAAAAAAFFRUQBXV1cAAAAAAAAAAAAAAAAAAAAAAAAAAAAAAAAAAAAAAAAAAAAAAAAAAAAAAAAAAAAAAAAAAAAAAAAAAAAAAAAAAAAAAAAARwAvJAYAAODSALfqAAAAAAAAAAAAAAAAAAAAAAAAAAAAAAAAAAAAAAAAAAAAAAAAAAAAAAAAAAAAAAAAAAAAAAAAAAAAAAAAAAAAAAAAAN2lAHxipQAAAAAAAAAAAAAAAAAAAAAAAEqKAKIBLPcAABTFSURBVLhY5gBjYpAAAAAAAAAAAAAAAAAAAAAAAAAAAAAAAAAAAAAAAAAAAAAAAAAAAAAAAAAAAAAAAAAARzcnAA0A3wC4sdkAAAAAAAAARwAvJAYAAObgAMrqAAAAAAAAAAAAAAAAAAAAAAAAAAAAAAAAAAAAAAAAAAAAAAAAAAAAAAAAAAAAAAAAAAAAAAAA7ejeAAAAAAAAAAAAAgAAAAAAAAAAAAAAAAAAAAAAAAAAAAAAAHl5eQDb29sAtbW1AAAAAABKSkoAAAAAAAAAAAAAAAAAAAAAAGtrawCoqKgA39/fAAAAAAAAAAAAAAAAAAAAAAAAAAAAAAAAAAAA4ADs8wAAExgiAAAAAAAAAAAAAAAAAAAAAAAAMGkAkbGwAJdkJwAAOz0AJhMAAO3f0QDZAAAAAAAAAEGBqgCdZwAAAAAAAAAAAAAAAAAAAAAAAAAAAAAAAAAAAAAAAAAAAAAAAAAAAAAAAAAAAAAAAAAAAAAAAAAAAAAAAAAAAAAAAAAAAAAAAAAAAAAAAAAAAAAAAAAAAAAAAAAAAAAAAAAAAAAAAAAAAAAAAAAAAAAAAAAAAAAAAAAAAAAAAAAAAAAAAAAAAAAAACkYEwAA7eAA0dcAAAAAAAAAKS8AIBMAAPrj1wDGAAAAAAAAAAAAAAAAAAAAAAAAAAAAAAAAAAAAAAAAAAAAAAAAAAAAAAAAAAAAAAAAABQADQoAAAD9AAAAAAAAAAAAAAIAAAAAAAAAAAAAAAAAAAAAAAAAAAAAAAAAAAAAAAAAAMPDwwDW1tYATk5OABEREQAAAAAAAAAAAAAAAABgYGAAp6enAAAAAAAAAAAAAAAAAAAAAAAAAAAAAAAAAAAAAAAAANkA7PD6AAAPGwA6AAAAAAAAAAAAAAAAAAAAR1dPADoaGwAZGhMALkMsABsAAADs5LkAAAAAAAAwcABjNO0Avq8AAAAAAAAAAAAAAAAAAAAAAAAAAAAAAAAAAAAAAAAAAAAAAAAAAAAAAAAAAAAAAAAAAAAAAAAAAAAAAAAAAAAAAAAAAAAAAAAAAAAAAAAAAAAAAAAAAAAAAAAAAAAAAAAAAAAAAAAAAAAAAAAAAAAAAAAAAAAAAAAAAAAAAAAAAAAAAAAAAAAAAAD5AAAAAAAAAAAAAAAAABMAT2FCACEA+gDY0KUAAAAAAAAAAAAAAAAAAAAAAAAAAAAAAAAAAAAAAAAAAAAAAAAAAAAAAAAAAAAAAAAAABYVAA0J+gDl3bkAAAAAAAAAAAACAAAAAAAAAAAAAAAAAAAAAAAAAAAAAAAAAAAAAAAAAAAAAAAAuLi4ABEREQBKSkoAAAAAAAAAAABcXFwAqqqqAOfn5wAAAAAAAAAAAAAAAAAAAAAAAAAAAAAAAAAAAAAAAAAAALHT3wAAFBkAKAAAAAAAAAAAAAAAAAAAAMzT2QDz8+UA9CB2AIIt1ACrv+0AIU2wAJ2epACwgTQA0o98AKXqAAAAAAAAAAAAAAAAAAAAAAAAAAAAAAAAAAAAAAAAAAAAAAAAAAAAAAAAAAAAAAAAAAAAAAAAAAAAAAAAAAAAAAAAAAAAAAAAAAAAAAAAAAAAAAAAAAAAAAAAAAAAAAAAAAAAAAAAAAAAAAAAAAAAAAAAAAAAAAAAAAAAAAAAAAAAAAAAAAAAAAAAqqu/AO0QOwBxpZ0AnaulAHY+EwAAAN8A07IAAAAAAAAAAAAAAAAAAAAAAAAAAAAAAAAAAAAAAAAAAAAAAAAAAAAAAAAAAAAAAAAAAABEJwAhAN8A07IAAAAAAAAAAAAABAAAAAAAAAAAAAAAAAAAAAAAAAAAAAAAAAAAAAAAAAAAAAAAALm5uQBgYGAAS0tLAKWlpQAAAAAAb29vAFVVVQAAAAAAAAAAAAAAAAAAAAAAAAAAAAAAAAAAAAAAAAAAAAAAAADtu9IA311PADVaAACepgAAAAAAAAAAAADtpm8AVcw0ACcR8wDZydkA7QAAAJ0mNAAnEfMA2cnZAO0AAAAAAAAAAAAAAAAAAAAAAAAAAAAAAAAAAAAAAAAAAAAAAAAAAAAAAAAAAAAAAAAAAAAAAAAAAAAAAAAAAAAAAAAAAAAAAAAAAAAAAAAAAAAAAAAAAAAAAAAAAAAAAAAAAAAAAAAAAAAAAAAAAAAAAAAAAAAAAAAAAAAAAAAAAAAAAAAAAAAAAAAAAAAhABvjlwBITp0ANCUTAADrFQBWknwAQfDSALfqAAAAAAAAAAAAAAAAAAAAAAAAAAAAAAAAAAAAAAAAAAAAAAAAAAAAAAAAAAAAAAAAAABVNicABt24ALfqAAAAAAAAAAAAAAIAAAAAAAAAAAAAAAAAAAAAAAAAAAAAAAAAAAAAAAAAAAAAAADu7u4Aubm5ACUlJQBHR0cASEhIALm5uQDg4OAAAAAAAAAAAAAAAAAAAAAAAAAAAAAAAAAAAAAAAAAAAAAAAAAAANedALHJ+QAuRGkAEwAAAAAAAAAAAAAAAAAAAO3azADGydkA7QAAAAAAAADt2swAxsnZAO0AAAAAAAAAAAAAAAAAAAAAAAAAAAAAAAAAAAAAAAAAAAAAAAAAAAAAAAAAAAAAAAAAAAAAAAAAAAAAAAAAAAAAAAAAAAAAAAAAAAAAAAAAAAAAAAAAAAAA39gAzNbXAAAAAAAAAAAAAAAAAAAAAAAAAAAAAAAAAAAAAAAAAAAAAAAAAAAAAAAAAAAAAAAnAGmipACdm5cAijDZAMzFxgDzRVUAOxP6ANK8nQDZAAAAAAAAAAAAAAAAAAAAAAAAAAAAAAAAAAAAAAAAAAAAAAAAAAAAAAAAAAAAAAAAFlsAQi4AAMyynQDZAAAAAAAAAAAARwACAAAAAAAAAAAAAAAAAAAAAAAAAAAAAAAAAAAAAAAAAAAAAAAAAAAAALi4uAAAAAAASUlJAHR0dACxsbEAAAAAAAAAAAAAAAAAAAAAAAAAAAAAAAAAAAAAAAAAAAAAAAAAAAAAAAAA7QCllasA3yRHAHFBAAAAAAAAAAAAAAAAAAAAAAAAAAAAAAAAAAAAAAAAAAAAAAAAAAAAAAAAAAAAAAAAAAAAAAAAAAAAAAAAAAAAAAAAAAAAAAAAAAAAAAAAAAAAAAAAAAAAAAAAAAAAAAAAAAAAAAAAAAAAAAAAAAAAAAAAAAAAAAAAAAAAAAAAANeeAHyIuQAAAAAAAAAAAAAAAAAAAAAAAAAAAAAAAAAAAAAAAAAAAAAAAAAAAAAAAAAAAAAAIAAhFgYA+uTMAMXQAAAhU4QAiVohAOu2igB2nO0AAAAAAAAAAAAAAAAAAAAAAAAAAAAAAAAAAAAAAAAAAAAAAAAAAAAAAAAAAAAAAAAALmJPAC7ksgCXpu0AAAAAAAAAAAAAALkAAxEREYAAAAAAAAAAAAAAAAAAAAAAAAAAAAAAAAAAAAAAAAAAAAAAAADr6+sAODg4ADU1NQDJyckAoKCgAAAAAAAAAAAAAAAAAAAAAAAAAAAAAAAAAAAAAAAAAAAAAAAAAAAAAAAAAAAAAOzMAMHsMgBtbkUA87y7ANn1AAAAAAAAAAAAAAAAAAAAAAAAAAAAAAAAAAAAAAAAAAAAAAAAAAAAAAAAAAAAAAAAAAAAAAAAAAAAAAAAAAAAAAAAAAAAAAAAAAAAAAAAAAAAAAAAAAAAAAAAAAAAAAAAAAAAAAAAAAAAAAAAAAAAAAAAAAAAAAAAAAAAAAAAAAAAAAAAAAAAAAAAAAAAAAAAAAAAAAAAAAAAAAAAAAAAAAAAAAAAAAAAAAAAAN0A6QElADEvMQA0TFwAUC/5AMKLcwBtncgA9wAAAAAAAAAAAAAAAAAAAAAAAAAAAAAAAAAAAAAAAAAAAAAAAAAAAAAAAAAAAAAAADB2AJNqFAC5gHYAsegAAAAAAAAAAAAAAAAAAAEhISH/AAAAAAAAAAAAAAAAAAAAAAAAAAAAAAAAAAAAAAAAAAAAAAAAAAAAAEZGRgCFhYUAaGhoAM3NzQAAAAAAAAAAAAAAAAAAAAAAAAAAAAAAAAAAAAAAAAAAAAAAAAAAAAAAAAAAAAAAAAAAAAAALl2RAHYxxABccqsAAAAAAAAAAAAAAAAAAAAAAAAAAAAAAAAAAAAAAAAAAAAAAAAAAAAAAAAAAAAAAAAAAAAAAAAAAAAAAAAAAAAAAAAAAAAAAAAAAAAAAAAAAAAAAAAAAAAAAAAAAAAAAAAAAAAAAAAAAAAAAAAAAAAAAAAAAAAAAAAAAAAAAAAAAAAAAAAAAAAAAAAAAAAAAAAAAAAAAAAAAAAAAAAAAAAAAAAAAAAAAAAAAAAAAAAAAAAAAAAAAAAAAAAAAAAAAAAAAAAAAAAAAAAAAAAAAAAAAAAAAAAAAAAAAAAAAAAAAAAAAAAAAAAAAAAAAAAAAAAAAABPAISiSADljmkAl9AAAAAAAAAAAAAAAAAAAAAAAAABISEh/wAAAAAAAAAAAAAAAAAAAAAAAAAAAAAAAAAAAAAAAAAAAAAAAAAAAAAAAAAASEhIALi4uAAAAAAAAAAAAAAAAAAAAAAAAAAAAAAAAAAAAAAAAAAAAAAAAAAAAAAAAAAAAAAAAAAAAAAAAAAAAAAAAAAAAAAAAAAAAAAAAAAAAAAAAAAAAAAAAAAAAAAAAAAAAAAAAAAAAAAAAAAAAAAAAAAAAAAAAAAAAAAAAAAAAAAAAAAAAAAAAAAAAAAAAAAAAAAAAAAAAAAAAAAAAAAAAAAAAAAAAAAAAAAAAAAAAAAAAAAAAAAAAAAAAAAAAAAAAAAAAAAAAAAAAAAAAAAAAAAAAAAAAAAAAAAAAAAAAAAAAAAAAAAAAAAAAAAAAAAAAAAAAAAAAAAAAAAAAAAAAAAAAAAAAAAAAAAAAAAAAAAAAAAAAAAAAAAAAAAAAAAAAAAAAAAAAAAAAAAAAAAAAAAAAAAAAAAAAAAAAAAAAAAAAAAAAAAAAAAAAAAAAAAAAAAAAAAAAAAAASEhIf8AAAAAAAAAAAAAAAAAAAAAAAAAAAAAAAAAAAAAAAAAAAAAAAAAAAAAAAAAAAAAAAAAAAAAAAAAAAAAAAAAAAAAAAAAAAAAAAAAAAAAAAAAAAAAAAAAAAAAAAAAAAAAAAAAAAAAAAAAAAAAAAAAAAAAAAAAAAAAAAAAAAAAAAAAAAAAAAAAAAAAAAAAAAAAAAAAAAAAAAAAAAAAAAAAAAAAAAAAAAAAAAAAAAAAAAAAAAAAAAAAAAAAAAAAAAAAAAAAAAAAAAAAAAAAAAAAAAAAAAAAAAAAAAAAAAAAAAAAAAAAAAAAAAAAAAAAAAAAAAAAAAAAAAAAAAAAAAAAAAAAAAAAAAAAAAAAAAAAAAAAAAAAAAAAAAAAAAAAAAAAAAAAAAAAAAAAAAAAAAAAAAAAAAAAAAAAAAAAAAAAAAAAAAAAAAAAAAAAAAAAAAAAAAAAAAAAAAAAAAAAAAAAAAAAAAAAAAAAAAAAAAAAAAAAAAAAAAAAAAAAAAAAAAAAAAAAAAAAAAAAAAIAAAAAAAAAAAAAAAAAAAAAAAAAAAAAAAAAAAAAAAAAAAAAAAAAAAAAAAAAAAAAAAAAAAAAAAAAAAAAAAAAAAAAAAAAAAAAAAAAAAAAAAAAAAAAAAAAAAAAAAAAAAAAAAAAAAAAAAAAAAAAAAAAAAAAAAAAAAAAAAAAAAAAAAAAAAAAAAAAAAAAAAAAAAAAAAAAAAAAAAAAAAAAAAAAAAAAAAAAAAAAAAAAAAAAAAAAAAAAAAAAAAAAAAAAAAAAAAAAAAAAAAAAAAAAAAAAAAAAAAAAAAAAAAAAAAAAAAAAAAAAAAAAAAAAAAAAAAAAAAAAAAAAAAAAAAAAAAAAAAAAAAAAAAAAAAAAAAAAAAAAAAAAAAAAAAAAAAAAAAAAAAAAAAAAAAAAAAAAAAAAAAAAAAAAAAAAAAAAAAAAAAAAAAAAAAAAAAAAAAAAAAAAAAAAAAAAAAAAAAAAAAAAAAAAAAAAAAAAAAAAAAAAAAAAAAAAAAAAAAAAAAAAAAAAAAAAAAAAAAAAAAAAAAACAAAAAAAAAAAAAAAAAAAAAAAAAAAAAAAAAAAAAAAAAAAAAAAAAAAAAAAAAAAAAAAAAAAAAAAAAAAAAAAAAAAAAAAAAAAAAAAAAAAAAAAAAAAAAAAAAAAAAAAAAAAAAAAAAAAAAAAAAAAAAAAAAAAAAAAAAAAAAAAAAAAAAAAAAAAAAAAAAAAAAAAAAAAAAAAAAAAAAAAAAAAAAAAAAAAAAAAAAAAAAAAAAAAAAAAAAAAAAAAAAAAAAAAAAAAAAAAAAAAAAAAAAAAAAAAAAAAAAAAAAAAAAAAAAAAAAAAAAAAAAAAAAAAAAAAAAAAAAAAAAAAAAAAAAAAAAAAAAAAAAAAAAAAAAAAAAAAAAAAAAAAAAAAAAAAAAAAAAAAAAAAAAAAAAAAAAAAAAAAAAAAAAAAAAAAAAAAAAAAAAAAAAAAAAAAAAAAAAAAAAAAAAAAAAAAAAAAAAAAAAAAAAAAAAAAAAAAAAAAAAAAAAAAAAAAAAAAAAAAAAAAAAAAAAAAAAAAAAAAAAAAAAAAAAgAAAAAAAAAAAAAAAAAAAAAAAAAAAAAAAAAAAAAAAAAAAAAAAAAAAAAAAAAAAAAAAAAAAAAAAAAAAAAAAAAAAAAAAAAAAAAAAAAAAAAAAAAAAAAAAAAAAAAAAAAAAAAAAAAAAAAAAAAAAAAAAAAAAAAAAAAAAAAAAAAAAAAAAAAAAAAAAAAAAAAAAAAAAAAAAAAAAAAAAAAAAAAAAAAAAAAAAAAAAAAAAAAAAAAAAAAAAAAAAAAAAAAAAAAAAAAAAAAAAAAAAAAAAAAAAAAAAAAAAAAAAAAAAAAAAAAAAAAAAAAAAAAAAAAAAAAAAAAAAAAAAAAAAAAAAAAAAAAAAAAAAAAAAAAAAAAAAAAAAAAAAAAAAAAAAAAAAAAAAAAAAAAAAAAAAAAAAAAAAAAAAAAAAAAAAAAAAAAAAAAAAAAAAAAAAAAAAAAAAAAAAAAAAAAAAAAAAAAAAAAAAAAAAAAAAAAAAAAAAAAAAAAAAAAAAAAAAAAAAAAAAAAAAAAAAAAAAAAAAAAAAAAAALG5tHNFNSWOAAAAAElFTkSuQmCC), onde:  x e y são as coordenadas do ponto."
      ]
    },
    {
      "cell_type": "code",
      "execution_count": null,
      "metadata": {
        "id": "eKRQpJ7ixHHJ"
      },
      "outputs": [],
      "source": [
        "import math\n",
        "ponto = (3, 4)\n",
        "origem = (0, 0)\n",
        "diferenca_x = ponto[0] - origem[0]\n",
        "diferenca_y = ponto[1] - origem[1]\n",
        "distancia = math.sqrt(diferenca_x**2 + diferenca_y**2)\n",
        "print(f\"A distância entre o ponto {ponto} e a origem {origem} é: {distancia:.2f}\")"
      ]
    },
    {
      "cell_type": "markdown",
      "metadata": {
        "id": "_6wVX9SSxs24"
      },
      "source": [
        "9. Dada a tupla nomes = ('Data', 'Processing', 'with', 'Python', 'data'), conte quantas vezes o nome 'Data' aparece na tupla."
      ]
    },
    {
      "cell_type": "code",
      "execution_count": null,
      "metadata": {
        "id": "pjLf2otqxvHE"
      },
      "outputs": [],
      "source": [
        "cont=0\n",
        "nomes=('Data', 'Processing', 'with', 'Python', 'data')\n",
        "for i in range(len(nomes)):\n",
        "    if str(nomes[i]).find('Data')==0:\n",
        "        cont+=1\n",
        "print(cont)"
      ]
    },
    {
      "cell_type": "markdown",
      "metadata": {
        "id": "cXVHeCaa1OMR"
      },
      "source": [
        "10. Crie um dicionário chamado estoque com itens de um supermercado e suas quantidades. Solicite ao usuário que digite o nome de um item. Exiba a quantidade desse item, se existir no estoque."
      ]
    },
    {
      "cell_type": "code",
      "execution_count": 6,
      "metadata": {
        "id": "rbxv9Re61Qne"
      },
      "outputs": [
        {
          "name": "stdout",
          "output_type": "stream",
          "text": [
            "existe 10 de Arroz\n",
            "existe 15 de Feijão\n",
            "existe 47 de Macarrão\n",
            " Item que você solicitou está em falta no estoque por favor volte mais tarde\n",
            "existe 0 de Óleo\n",
            "O item Batata foi cadastrado com sucesso!\n",
            "\n",
            "existe 100 de Batata\n",
            "Obrigado volte sempre!\n"
          ]
        }
      ],
      "source": [
        "estoque={'Arroz': 10, 'Feijão': 15, 'Macarrão': 47, 'Óleo': 0}\n",
        "item=''\n",
        "while item !=\"X\":\n",
        "    item=input(\"Digite o item que deseja consultar \\nou [X] para sair. \\n\")\n",
        "    if item in estoque:\n",
        "        if estoque[item]==0:\n",
        "            print(\" Item que você solicitou está em falta no estoque por favor volte mais tarde\")\n",
        "        print(f\"Existe {estoque[item]} de {item}\")\n",
        "    elif item =='X':\n",
        "        print('Obrigado volte sempre!')\n",
        "    else:\n",
        "        cad=input(\"\\nEsse item não existe no estoque\\n deseja cadastra? [S]Sim [N]Não\\n\")\n",
        "        if cad=='S':\n",
        "            qt=input('Digite a quantidade que deseja cadastrar deste item:\\n')\n",
        "            estoque[item]=qt\n",
        "            print(f\"O item {item} foi cadastrado com sucesso!\\n\")"
      ]
    },
    {
      "cell_type": "markdown",
      "metadata": {
        "id": "UE9qMpdlAYpa"
      },
      "source": [
        "\n",
        "11. Crie um dicionário chamado agenda com nomes de pessoas e seus números de telefone. Permita que o usuário adicione novos contatos à agenda."
      ]
    },
    {
      "cell_type": "code",
      "execution_count": 63,
      "metadata": {},
      "outputs": [
        {
          "name": "stdout",
          "output_type": "stream",
          "text": [
            "MARIO cadastrato dom sucesso\n",
            "\n",
            " ('MARIO', 'QMARIO', '22')\n"
          ]
        }
      ],
      "source": [
        "agenda={0:{'Nome':'CASANDRA', 'Sobrenome':'DEALGUMACOISA','Numero':'83'},1:{'Nome':'WOSHI','Sobrenome':'ZINHO','Numero':'44'} }\n",
        "\n",
        "def search_contact(key):      \n",
        "    for i in agenda:\n",
        "        if key in agenda[i]['Nome'] or key in agenda[i]['Sobrenome'] or key in agenda[i]['Numero']:  \n",
        "            return agenda[i]['Nome'],agenda[i]['Sobrenome'],agenda[i]['Numero']\n",
        "    return None\n",
        "        \n",
        "def new_contato(nome, sobrenome, numero):\n",
        "    nweid=len(agenda)+1\n",
        "    nwecontato={\n",
        "        'Nome': nome,\n",
        "        'Sobrenome': sobrenome,\n",
        "        'Numero': numero\n",
        "    }\n",
        "    agenda[nweid]=nwecontato\n",
        "\n",
        "    print(f\"{nome} cadastrato dom sucesso\")\n",
        "\n",
        "key=''\n",
        "while True:\n",
        "    key=str(input(\"Digite o nome do contato que deseja consultar \\nou [X] para sair. \\n\")).upper()\n",
        "    if key == 'X':\n",
        "        break\n",
        "    contact=search_contact(key)\n",
        "\n",
        "    if contact == None:\n",
        "        key=str(input('Esse contato não existe, deseja cadastrar? [S]Sim [N]Não')).upper()\n",
        "        if key=='S':\n",
        "            new_contato(str(input(\"Digite o Nome do seu novo contato: \\n\")).upper(), str(input(\"Digite o Sobrenome do seu novo contato: \\n\")).upper(), input(\"Digite o Numero do seu novo contato: \\n\"))\n",
        "    else:\n",
        "         print(\"\\n\",contact)   \n"
      ]
    },
    {
      "cell_type": "markdown",
      "metadata": {},
      "source": [
        "12. Crie dois dicionários, dicionario1 e dicionario2, com chaves e valores diferentes. Crie um terceiro dicionário, dicionario_misturado, que contenha todas as chaves e valores de ambos dicionario1 e dicionario2."
      ]
    },
    {
      "cell_type": "code",
      "execution_count": 101,
      "metadata": {},
      "outputs": [
        {
          "name": "stdout",
          "output_type": "stream",
          "text": [
            "{'Nome_1': 'CASANDRA', 'Nome_2': 'WOSHI', 'Sobrenome_1': 'DEALGUMACOISA', 'Sobrenome_2': 'ZINHO'}\n"
          ]
        }
      ],
      "source": [
        "dicionario_misturado={}\n",
        "dicionario1 = {'Nome_1':'CASANDRA', 'Nome_2':'WOSHI'}\n",
        "dicionario2 = {'Sobrenome_1':'DEALGUMACOISA','Sobrenome_2':'ZINHO'}\n",
        "# dicionario_misturado={**dicionario1, **dicionario2}\n",
        "dicionario_misturado.update(dicionario1)\n",
        "dicionario_misturado.update(dicionario2)\n",
        "print(dicionario_misturado)\n"
      ]
    },
    {
      "cell_type": "markdown",
      "metadata": {},
      "source": [
        "13. Crie um conjunto com números inteiros e permita que o usuário adicione novos números. Remova todas as duplicatas do conjunto e imprima o conjunto resultante."
      ]
    },
    {
      "cell_type": "code",
      "execution_count": 134,
      "metadata": {},
      "outputs": [
        {
          "name": "stdout",
          "output_type": "stream",
          "text": [
            "Números:  {0}\n",
            "Números:  {0, 1}\n",
            "Números:  {0, 1, 2}\n",
            "Números:  {0, 1, 2, 3}\n",
            "Números:  {0, 1, 2, 3, 4}\n",
            "Números:  {0, 1, 2, 3, 4, 5}\n",
            "Números:  {0, 1, 2, 3, 4, 5, 6}\n",
            "Números:  {0, 1, 2, 3, 4, 5, 6, 7}\n",
            "Números:  {0, 1, 2, 3, 4, 5, 6, 7, 8}\n",
            "Números:  {0, 1, 2, 3, 4, 5, 6, 7, 8, 9}\n",
            "Números:  {0, 1, 2, 3, 4, 5, 6, 7, 8, 9}\n",
            "Números:  {0, 1, 2, 3, 4, 5, 6, 7, 8, 9, 10}\n",
            "Números:  {0, 1, 2, 3, 4, 5, 6, 7, 8, 9, 10, 11}\n",
            "Números:  {0, 1, 2, 3, 4, 5, 6, 7, 8, 9, 10, 11}\n",
            "Números:  {0, 1, 2, 3, 4, 5, 6, 7, 8, 9, 10, 11}\n"
          ]
        }
      ],
      "source": [
        "# intnum=set([1,2,3,4,5,6,7,8,9,0])\n",
        "intnum=set()\n",
        "while True:\n",
        "    enum=str(input(\"Digite um numero \\nou [X] para sair. \\n\")).upper()\n",
        "    if enum == 'X':\n",
        "        break\n",
        "    intnum.add(int(enum))\n",
        "    print(\"Números: \", intnum)"
      ]
    },
    {
      "cell_type": "markdown",
      "metadata": {},
      "source": [
        "14. Crie dois conjuntos, conjunto1 e conjunto2, com elementos diferentes. Realize operações de união, interseção e diferença entre esses conjuntos e imprima os resultados."
      ]
    },
    {
      "cell_type": "code",
      "execution_count": 142,
      "metadata": {},
      "outputs": [
        {
          "name": "stdout",
          "output_type": "stream",
          "text": [
            "A UNIÃO {0, 100, 70, 40, 10, 80, 50, 20, 90, 60, 30}\n",
            "A INTERSEÇÃO {0}\n",
            "A DIEFERENÇA {40, 10, 50, 20, 30}\n"
          ]
        }
      ],
      "source": [
        "conjunto1=set([00,10,20,30,40,50])\n",
        "conjunto2=set([60,70,80,90,100,00])\n",
        "conj_union=conjunto1.union(conjunto2)\n",
        "conj_intersecao=conjunto1.intersection(conjunto2)\n",
        "conj_dif=conjunto1.difference(conjunto2)\n",
        "print(f\"A UNIÃO {conj_union}\")\n",
        "print(f\"A INTERSEÇÃO {conj_intersecao}\")\n",
        "print(f\"A DIEFERENÇA {conj_dif}\")"
      ]
    },
    {
      "cell_type": "markdown",
      "metadata": {},
      "source": [
        "15. Converta uma lista em um conjunto e, em seguida, converta o conjunto de volta para uma lista. Imprima a lista resultante para verificar se a conversão foi bem-sucedida."
      ]
    },
    {
      "cell_type": "code",
      "execution_count": 150,
      "metadata": {},
      "outputs": [
        {
          "name": "stdout",
          "output_type": "stream",
          "text": [
            "{'nós', 'vos', 'eles', 'eu', 'tu'}\n",
            "['nós', 'vos', 'eles', 'eu', 'tu']\n"
          ]
        }
      ],
      "source": [
        "conv_list=[\"eu\", \"tu\", \"eles\", 'vos', \"nós\"]\n",
        "conv_conj=set(conv_list)\n",
        "conv_list=list(conv_conj)\n",
        "print(conv_conj)\n",
        "print(conv_list)"
      ]
    },
    {
      "cell_type": "markdown",
      "metadata": {},
      "source": [
        "16. Crie uma função chamada calcular_media que recebe uma lista de números como argumento e retorna a média desses números."
      ]
    },
    {
      "cell_type": "code",
      "execution_count": 159,
      "metadata": {},
      "outputs": [
        {
          "name": "stdout",
          "output_type": "stream",
          "text": [
            "\n",
            "A Média desse numero é: \n",
            " 6.2\n",
            "\n",
            "A Média desse numero é: \n",
            " 379.3076923076923\n"
          ]
        }
      ],
      "source": [
        "def calcular_media(medianum):\n",
        "    soma = sum(medianum)\n",
        "    medianum = soma / len(medianum)\n",
        "    return f\"\\nA Média desse numero é: \\n {medianum}\"\n",
        "\n",
        "lista=set()\n",
        "while True:\n",
        "    key=str(input(\"Digite alguns numeros para calcular a media de uma lista \\nDigite [X] para sair ou [C] para Calcular. \\n\")).upper()\n",
        "    \n",
        "    if key == 'X':\n",
        "        break\n",
        "\n",
        "    elif key == \"C\":\n",
        "        print(calcular_media(list(lista)))\n",
        "    else:\n",
        "        lista.add(int(key))"
      ]
    },
    {
      "cell_type": "markdown",
      "metadata": {},
      "source": [
        "17. Crie uma função chamada verificar_paridade que recebe um número como argumento e retorna se o número é par ou ímpar."
      ]
    },
    {
      "cell_type": "code",
      "execution_count": 163,
      "metadata": {},
      "outputs": [
        {
          "name": "stdout",
          "output_type": "stream",
          "text": [
            "\n",
            " O numero 132 é par\n",
            "\n",
            " O numero 57 é impar\n",
            "\n",
            " O numero 6 é par\n",
            "\n",
            " O numero 4 é par\n",
            "\n",
            " O numero 75 é impar\n",
            "\n",
            " O numero 255 é impar\n"
          ]
        }
      ],
      "source": [
        "def verificar_paridade(enum):\n",
        "\n",
        "    if enum%2 == 0:\n",
        "        return f\"\\n O numero {enum} é par\"\n",
        "    else:\n",
        "        return f\"\\n O numero {enum} é impar\"\n",
        "\n",
        "while True:\n",
        "    key=str(input(\"Digite algun para calcular a paridade \\nDigite [X] para sair. \\n\")).upper()\n",
        "    if key == 'X':\n",
        "        break\n",
        "    else:\n",
        "        print(verificar_paridade(int(key)))\n"
      ]
    },
    {
      "cell_type": "markdown",
      "metadata": {},
      "source": [
        "18. Crie uma função lambda que recebe dois números como argumentos e retorna o primeiro número elevado à potência do segundo número."
      ]
    },
    {
      "cell_type": "code",
      "execution_count": 166,
      "metadata": {},
      "outputs": [
        {
          "name": "stdout",
          "output_type": "stream",
          "text": [
            "25\n"
          ]
        }
      ],
      "source": [
        "pot_lamb=lambda x,y : x**y\n",
        "print(pot_lamb(5,2))"
      ]
    },
    {
      "cell_type": "markdown",
      "metadata": {},
      "source": [
        "19. Crie um módulo Python com uma função que imprime uma mensagem. Importe e execute essa função em outro script Python."
      ]
    },
    {
      "cell_type": "code",
      "execution_count": 191,
      "metadata": {},
      "outputs": [
        {
          "name": "stdout",
          "output_type": "stream",
          "text": [
            "def soma(a,b):\n",
            "    c=lambda a,b: a+b\n",
            "    return c(a,b)\n"
          ]
        },
        {
          "data": {
            "text/plain": [
              "11"
            ]
          },
          "execution_count": 191,
          "metadata": {},
          "output_type": "execute_result"
        }
      ],
      "source": [
        "!cat calculadora.py\n",
        "import calculadora\n",
        "calculadora.soma(5,6)"
      ]
    },
    {
      "cell_type": "markdown",
      "metadata": {},
      "source": [
        "20. Crie um pacote Python com dois módulos diferentes. Importe e utilize funções de ambos os módulos em outro script Python."
      ]
    },
    {
      "cell_type": "code",
      "execution_count": 193,
      "metadata": {},
      "outputs": [
        {
          "name": "stdout",
          "output_type": "stream",
          "text": [
            "def soma(a,b):\n",
            "    c=lambda a,b: a+b\n",
            "    return c(a,b)\n",
            "\n",
            "def subtracão(a,b):\n",
            "    c=lambda a,b: a-b\n",
            "    return c(a,b)\n"
          ]
        },
        {
          "data": {
            "text/plain": [
              "-1"
            ]
          },
          "execution_count": 193,
          "metadata": {},
          "output_type": "execute_result"
        }
      ],
      "source": [
        "!cat calculadora.py\n",
        "import calculadora\n",
        "calculadora.subtracão(5,6)"
      ]
    },
    {
      "cell_type": "markdown",
      "metadata": {},
      "source": [
        "21. Utilize o pacote requests para fazer uma requisição HTTP em um script Python. Retorne o status_code."
      ]
    },
    {
      "cell_type": "code",
      "execution_count": 202,
      "metadata": {},
      "outputs": [
        {
          "name": "stdout",
          "output_type": "stream",
          "text": [
            "200\n"
          ]
        }
      ],
      "source": [
        "import requests\n",
        "r= requests.get(\"https://google.com\")\n",
        "print(r.status_code)"
      ]
    },
    {
      "cell_type": "markdown",
      "metadata": {},
      "source": [
        "22. Leia o conteúdo de um arquivo de texto e imprima-o na tela."
      ]
    },
    {
      "cell_type": "code",
      "execution_count": 224,
      "metadata": {},
      "outputs": [
        {
          "name": "stdout",
          "output_type": "stream",
          "text": [
            "Este é o conteudo do arquivo de texto <<<<<<<< aqui está o conteudo do arquivo text.txt\n",
            "Este é o conteudo do arquivo de texto <<<<<<<< este está sendo lido pelo python\n"
          ]
        }
      ],
      "source": [
        "!cat text.txt\n",
        "!echo \" <<<<<<<< aqui está o conteudo do arquivo text.txt\"\n",
        "\n",
        "t=open(\"text.txt\")\n",
        "t = t.read()\n",
        "print(f\"{t} <<<<<<<< este está sendo lido pelo python\")"
      ]
    },
    {
      "cell_type": "markdown",
      "metadata": {},
      "source": [
        "23. Solicite ao usuário que digite algumas linhas de texto e grave essas linhas em um arquivo de texto."
      ]
    },
    {
      "cell_type": "code",
      "execution_count": 237,
      "metadata": {},
      "outputs": [
        {
          "name": "stdout",
          "output_type": "stream",
          "text": [
            "kngçlskn~lsknb~ <<<<<<<< este é o que foi digitado  pelo usuário\n",
            "kngçlskn~lsknb~\n",
            " <<<<<<<< aqui está o conteudo do arquivo text.txt\n"
          ]
        }
      ],
      "source": [
        "arquivo = open(\"digitado.txt\", \"w\")\n",
        "while True:\n",
        "    key=input(\"digite algumas linhas de texto \\n Quando terminar de enter \\nDigite [X] para sair. \\n\")\n",
        "\n",
        "    if key.upper() == 'X':\n",
        "        break\n",
        "\n",
        "    else:      \n",
        "        print(f\"{key} <<<<<<<< este é o que foi digitado  pelo usuário\")\n",
        "        arquivo.write(f\"{str(key)}\\n\")\n",
        "arquivo.close()\n",
        "\n",
        "!cat digitado.txt\n",
        "!echo \" <<<<<<<< aqui está o conteudo do arquivo digitado.txt\"\n",
        "\n"
      ]
    },
    {
      "cell_type": "markdown",
      "metadata": {},
      "source": [
        "24. Obtenha a data atual e imprima-a na tela."
      ]
    },
    {
      "cell_type": "code",
      "execution_count": 251,
      "metadata": {},
      "outputs": [
        {
          "name": "stdout",
          "output_type": "stream",
          "text": [
            "29/04/24\n"
          ]
        }
      ],
      "source": [
        "from datetime import date\n",
        "hj=date.today()\n",
        "hj = hj.strftime(\"%d/%m/%y\")\n",
        "print(hj)"
      ]
    },
    {
      "cell_type": "markdown",
      "metadata": {},
      "source": [
        "26. Agende uma tarefa para ser executada daqui a 10 minutos e imprima uma mensagem quando ela for executada."
      ]
    },
    {
      "cell_type": "code",
      "execution_count": 2,
      "metadata": {},
      "outputs": [
        {
          "name": "stdout",
          "output_type": "stream",
          "text": [
            "Tarefa execultada\n"
          ]
        }
      ],
      "source": [
        "import time \n",
        "\n",
        "time.sleep(600) #600 seg = 10 min\n",
        "print(\"Tarefa execultada\")"
      ]
    },
    {
      "cell_type": "markdown",
      "metadata": {},
      "source": [
        "27. Valide se um endereço de e-mail está em um formato válido usando expressões regulares.\n",
        "regex101: build, test, and debug regex"
      ]
    },
    {
      "cell_type": "code",
      "execution_count": 24,
      "metadata": {},
      "outputs": [
        {
          "name": "stdout",
          "output_type": "stream",
          "text": [
            "Email válido\n"
          ]
        }
      ],
      "source": [
        "import re\n",
        "\n",
        "def valid_mail(email):\n",
        "    regex = '^[a-zA-Z0-9_.+-]+@[a-zA-Z0-9-]+\\.[a-zA-Z0-9-.]+$'\n",
        "    if(re.search(regex, email)):\n",
        "        print(\"Email válido\")\n",
        "    else:\n",
        "        print(\"Email inválido\")\n",
        "\n",
        "\n",
        "valid_mail(\"abc@bca.com\")\n"
      ]
    },
    {
      "cell_type": "markdown",
      "metadata": {},
      "source": [
        "28. Extraia todos os números de uma string usando expressões regulares."
      ]
    },
    {
      "cell_type": "code",
      "execution_count": 13,
      "metadata": {},
      "outputs": [
        {
          "name": "stdout",
          "output_type": "stream",
          "text": [
            "['1', '5', '4', '8', '3', '1', '8', '5', '6']\n"
          ]
        }
      ],
      "source": [
        "import re\n",
        "string=\"1d5r48y3y1s8s5f6g\"\n",
        "regex = '[0-9]'\n",
        "print(re.findall(regex, string))"
      ]
    },
    {
      "cell_type": "markdown",
      "metadata": {},
      "source": [
        "29. Verifique se uma string está no formato de data dd/mm/aaaa usando expressões regulares."
      ]
    },
    {
      "cell_type": "code",
      "execution_count": 23,
      "metadata": {},
      "outputs": [
        {
          "name": "stdout",
          "output_type": "stream",
          "text": [
            "Email válido\n"
          ]
        }
      ],
      "source": [
        "import re\n",
        "\n",
        "def valid_dt(dt):\n",
        "    regex = '[0-9]{2}/[0-9]{2}/[0-9]{4}'\n",
        "    if(re.search(regex, dt)):\n",
        "        print(\"Email válido\")\n",
        "    else:\n",
        "        print(\"Email inválido\")\n",
        "\n",
        "\n",
        "valid_dt(\"29/04/2024\")\n",
        "\n"
      ]
    }
  ],
  "metadata": {
    "colab": {
      "provenance": []
    },
    "kernelspec": {
      "display_name": "Python 3",
      "name": "python3"
    },
    "language_info": {
      "codemirror_mode": {
        "name": "ipython",
        "version": 3
      },
      "file_extension": ".py",
      "mimetype": "text/x-python",
      "name": "python",
      "nbconvert_exporter": "python",
      "pygments_lexer": "ipython3",
      "version": "3.10.13"
    }
  },
  "nbformat": 4,
  "nbformat_minor": 0
}
